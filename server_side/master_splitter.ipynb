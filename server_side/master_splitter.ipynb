{
 "cells": [
  {
   "cell_type": "markdown",
   "metadata": {},
   "source": [
    "# Hackathon - Master Splitter\n",
    "\n",
    "### Trials"
   ]
  },
  {
   "cell_type": "code",
   "execution_count": 160,
   "metadata": {
    "collapsed": true
   },
   "outputs": [],
   "source": [
    "import warnings\n",
    "warnings.filterwarnings('ignore')"
   ]
  },
  {
   "cell_type": "code",
   "execution_count": 161,
   "metadata": {
    "collapsed": true
   },
   "outputs": [],
   "source": [
    "from bs4 import BeautifulSoup\n",
    "from gensim import corpora, models\n",
    "from gensim.models import ldamodel\n",
    "from nltk.stem.porter import PorterStemmer\n",
    "from nltk.tokenize import RegexpTokenizer\n",
    "from requests import get\n",
    "from stop_words import get_stop_words\n",
    "from string import punctuation"
   ]
  },
  {
   "cell_type": "code",
   "execution_count": 162,
   "metadata": {
    "collapsed": false
   },
   "outputs": [],
   "source": [
    "stop_words = get_stop_words('english')\n",
    "\n",
    "tokenizer = RegexpTokenizer(r'\\w+')\n",
    "\n",
    "porter_stemmer = PorterStemmer()"
   ]
  },
  {
   "cell_type": "code",
   "execution_count": 163,
   "metadata": {
    "collapsed": true
   },
   "outputs": [],
   "source": [
    "def clean_and_tokenize_text(text):\n",
    "    raw = text.lower()\n",
    "    tokens = tokenizer.tokenize(raw)\n",
    "    stemmed = [porter_stemmer.stem(t) for t in tokens]\n",
    "    cleaned = [t for t in stemmed if t not in stop_words]\n",
    "    return cleaned"
   ]
  },
  {
   "cell_type": "code",
   "execution_count": 164,
   "metadata": {
    "collapsed": true
   },
   "outputs": [],
   "source": [
    "def parse_html_pages(urls):\n",
    "    page_contents = []\n",
    "    for url in urls:\n",
    "        response = get(url)\n",
    "        soup = BeautifulSoup(response.text, 'html.parser')\n",
    "        text = soup.body.text\n",
    "        tokens = clean_and_tokenize_text(text)\n",
    "        page_contents.append(tokens)\n",
    "    return page_contents"
   ]
  },
  {
   "cell_type": "code",
   "execution_count": 196,
   "metadata": {
    "collapsed": true
   },
   "outputs": [],
   "source": [
    "urls = [\n",
    "    \"https://en.wikipedia.org/wiki/National_Basketball_Association\",\n",
    "    \"https://en.wikipedia.org/wiki/Architecture\",\n",
    "    \"https://en.wikipedia.org/wiki/Carl_Friedrich_Gauss\",\n",
    "    \"https://en.wikipedia.org/wiki/LeBron_James\",\n",
    "    \"https://en.wikipedia.org/wiki/Number_theory\",\n",
    "    \"https://en.wikipedia.org/wiki/Ronaldo_(Brazilian_footballer)\",\n",
    "    \"https://en.wikipedia.org/wiki/Tennis\",\n",
    "    \"https://en.wikipedia.org/wiki/Mathematical_logic\",\n",
    "    \"https://en.wikipedia.org/wiki/Computer_science\",\n",
    "    \"https://en.wikipedia.org/wiki/Ultimate_(sport)\",\n",
    "    \"https://en.wikipedia.org/wiki/Leonardo_da_Vinci\",\n",
    "    \"https://en.wikipedia.org/wiki/Michelangelo\",\n",
    "    \"https://en.wikipedia.org/wiki/St._Peter%27s_Basilica\"\n",
    "]"
   ]
  },
  {
   "cell_type": "code",
   "execution_count": 198,
   "metadata": {
    "collapsed": false
   },
   "outputs": [],
   "source": [
    "true_labels = [0, 1, 2, 0, 2, 0, 0, 2, 2, 0, 1, 1, 1]"
   ]
  },
  {
   "cell_type": "code",
   "execution_count": 201,
   "metadata": {
    "collapsed": false
   },
   "outputs": [],
   "source": [
    "k = 2\n",
    "\n",
    "texts = parse_html_pages(urls)\n",
    "dictionary = corpora.Dictionary(texts)\n",
    "corpus = [dictionary.doc2bow(text) for text in texts]\n",
    "lda = ldamodel.LdaModel(corpus, num_topics=k, id2word=dictionary, passes=20)"
   ]
  },
  {
   "cell_type": "code",
   "execution_count": 202,
   "metadata": {
    "collapsed": false
   },
   "outputs": [],
   "source": [
    "results = [lda[dictionary.doc2bow(text)] for text in texts]\n",
    "labels = [max(result, key=lambda tup: tup[1])[0] for result in results]"
   ]
  },
  {
   "cell_type": "code",
   "execution_count": 203,
   "metadata": {
    "collapsed": false
   },
   "outputs": [
    {
     "name": "stdout",
     "output_type": "stream",
     "text": [
      "predicted: [0, 1, 1, 0, 1, 1, 0, 0, 0, 0, 1, 1, 1]\n",
      "true lbls: [0, 1, 2, 0, 2, 0, 0, 2, 2, 0, 1, 1, 1]\n"
     ]
    }
   ],
   "source": [
    "print 'predicted:', labels\n",
    "print 'true lbls:', true_labels"
   ]
  }
 ],
 "metadata": {
  "anaconda-cloud": {},
  "kernelspec": {
   "display_name": "Python [default]",
   "language": "python",
   "name": "python2"
  },
  "language_info": {
   "codemirror_mode": {
    "name": "ipython",
    "version": 2
   },
   "file_extension": ".py",
   "mimetype": "text/x-python",
   "name": "python",
   "nbconvert_exporter": "python",
   "pygments_lexer": "ipython2",
   "version": "2.7.12"
  }
 },
 "nbformat": 4,
 "nbformat_minor": 2
}
